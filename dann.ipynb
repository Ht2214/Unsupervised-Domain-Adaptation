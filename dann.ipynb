{
 "cells": [
  {
   "cell_type": "code",
   "execution_count": 1,
   "id": "a618fc6c",
   "metadata": {},
   "outputs": [
    {
     "name": "stdout",
     "output_type": "stream",
     "text": [
      "Random Seed:  999\n"
     ]
    },
    {
     "data": {
      "text/plain": [
       "<torch._C.Generator at 0x7f3f90395e70>"
      ]
     },
     "execution_count": 1,
     "metadata": {},
     "output_type": "execute_result"
    }
   ],
   "source": [
    "import torch\n",
    "import torch.nn as nn\n",
    "import torch.optim as optim\n",
    "from torch.utils.data import DataLoader\n",
    "from torchvision.datasets import ImageFolder\n",
    "from torch.utils.data.dataset import Dataset\n",
    "from torchvision import datasets\n",
    "from torchvision.transforms import transforms\n",
    "import numpy as np\n",
    "import pandas as pd\n",
    "import matplotlib.pyplot as plt\n",
    "from matplotlib import image\n",
    "import torchvision.utils as vutils\n",
    "import random\n",
    "from torch.autograd import Variable\n",
    "import os\n",
    "from torch.autograd import Function\n",
    "from sklearn.manifold import TSNE\n",
    "manualSeed = 999\n",
    "#manualSeed = random.randint(1, 10000) # use if you want new results\n",
    "print(\"Random Seed: \", manualSeed)\n",
    "random.seed(manualSeed)\n",
    "torch.manual_seed(manualSeed)"
   ]
  },
  {
   "cell_type": "code",
   "execution_count": 2,
   "id": "5486eb84",
   "metadata": {},
   "outputs": [],
   "source": [
    "batch_size = 100\n",
    "\n",
    "lr = 2e-4\n",
    "\n",
    "momentum = 0.9\n",
    "\n",
    "device = \"cuda:1\" if torch.cuda.is_available() else \"cpu\""
   ]
  },
  {
   "cell_type": "markdown",
   "id": "fca9fd3b",
   "metadata": {},
   "source": [
    "### Loading Data"
   ]
  },
  {
   "cell_type": "code",
   "execution_count": 3,
   "id": "da60457e",
   "metadata": {},
   "outputs": [],
   "source": [
    "class digitData(Dataset):\n",
    "    def __init__(self, dir, transform, csv):\n",
    "        imgs = []\n",
    "        img_list = os.listdir(dir)\n",
    "        img_list.sort()\n",
    "        df = pd.read_csv(csv)\n",
    "        labels = df.to_dict(\"list\")[\"label\"]\n",
    "        for i in img_list:\n",
    "            loc = os.path.join(dir, i)\n",
    "            img = image.imread(loc)\n",
    "            if len(img.shape) == 2:\n",
    "                img = np.stack((img,)*3, axis=-1)\n",
    "            imgs.append(img)\n",
    "        self.images =  np.array(imgs)\n",
    "        self.labels = np.array(labels)\n",
    "        self.transform = transform\n",
    "        \n",
    "    def __getitem__(self, index):\n",
    "        img = self.images[index]\n",
    "        label = self.labels[index]\n",
    "        if self.transform is not None:\n",
    "            img = self.transform(img)\n",
    "        return img, label\n",
    "\n",
    "    def __len__(self):\n",
    "        return len(self.images)\n",
    "transform = transforms.Compose([transforms.ToTensor(), transforms.Normalize((0.5, 0.5, 0.5), (0.5, 0.5, 0.5))])"
   ]
  },
  {
   "cell_type": "code",
   "execution_count": 4,
   "id": "924c8d19",
   "metadata": {},
   "outputs": [],
   "source": [
    "# 3 x 28 x 28\n",
    "train_data_dir = \"./hw2_data/digits/mnistm/train\"\n",
    "train_csv_dir = \"./hw2_data/digits/mnistm/train.csv\"\n",
    "test_data_dir = \"./hw2_data/digits/mnistm/test\"\n",
    "test_csv_dir = \"./hw2_data/digits/mnistm/test.csv\"\n",
    "train_mnist = digitData(train_data_dir, transform, train_csv_dir)\n",
    "test_minist = digitData(test_data_dir, transform, test_csv_dir)\n",
    "train_dl_mnist = DataLoader(train_mnist, batch_size, num_workers=2)\n",
    "test_dl_mnist = DataLoader(test_minist, batch_size, num_workers=2)"
   ]
  },
  {
   "cell_type": "code",
   "execution_count": 5,
   "id": "c8bdf970",
   "metadata": {},
   "outputs": [],
   "source": [
    "# 3 x 28 x 28\n",
    "train_data_dir = \"./hw2_data/digits/svhn/train\"\n",
    "train_csv_dir = \"./hw2_data/digits/svhn/train.csv\"\n",
    "test_data_dir = \"./hw2_data/digits/svhn/test\"\n",
    "test_csv_dir = \"./hw2_data/digits/svhn/test.csv\"\n",
    "train_svhn = digitData(train_data_dir, transform, train_csv_dir)\n",
    "test_svhn = digitData(test_data_dir, transform, test_csv_dir)\n",
    "train_dl_svhn = DataLoader(train_svhn, batch_size, num_workers=2)\n",
    "test_dl_svhn = DataLoader(test_svhn, batch_size, num_workers=2)"
   ]
  },
  {
   "cell_type": "code",
   "execution_count": 6,
   "id": "95294f40",
   "metadata": {},
   "outputs": [],
   "source": [
    "# 1 x 28 x 28 => convert it to 3 channel 3 x 28 x 28\n",
    "train_data_dir = \"./hw2_data/digits/usps/train\"\n",
    "train_csv_dir = \"./hw2_data/digits/usps/train.csv\"\n",
    "test_data_dir = \"./hw2_data/digits/usps/test\"\n",
    "test_csv_dir = \"./hw2_data/digits/usps/test.csv\"\n",
    "train_usps = digitData(train_data_dir, transform, train_csv_dir)\n",
    "test_usps = digitData(test_data_dir, transform, test_csv_dir)\n",
    "train_dl_usps = DataLoader(train_usps, batch_size, num_workers=2)\n",
    "test_dl_usps = DataLoader(test_usps, batch_size, num_workers=2)"
   ]
  },
  {
   "cell_type": "code",
   "execution_count": 7,
   "id": "b60e44c4",
   "metadata": {},
   "outputs": [],
   "source": [
    "class ReverseLayerF(Function):\n",
    "\n",
    "    @staticmethod\n",
    "    def forward(ctx, x, alpha):\n",
    "        ctx.alpha = alpha\n",
    "\n",
    "        return x.view_as(x)\n",
    "\n",
    "    @staticmethod\n",
    "    def backward(ctx, grad_output):\n",
    "        output = grad_output.neg() * ctx.alpha\n",
    "\n",
    "        return output, None"
   ]
  },
  {
   "cell_type": "code",
   "execution_count": 8,
   "id": "050c6c27",
   "metadata": {},
   "outputs": [],
   "source": [
    "class dann(nn.Module):\n",
    "    \n",
    "    def __init__(self):\n",
    "        super(dann, self).__init__()\n",
    "        \n",
    "        self.latent_space = None\n",
    "        \n",
    "        # feature extractor\n",
    "        self.conv1 = nn.Sequential(\n",
    "            nn.ConvTranspose2d(3, 32, 5),\n",
    "            nn.BatchNorm2d(32),\n",
    "            nn.ReLU(True),\n",
    "            nn.MaxPool2d(2, stride=2)\n",
    "        )\n",
    "        self.conv2 = nn.Sequential(\n",
    "            nn.ConvTranspose2d(32, 48, 5),\n",
    "            nn.BatchNorm2d(48),\n",
    "            nn.ReLU(True),\n",
    "            nn.Dropout2d(0.5),\n",
    "            nn.MaxPool2d(2, stride=2)\n",
    "        )\n",
    "        \n",
    "        # classifier\n",
    "        self.fc1 = nn.Sequential(\n",
    "            nn.Linear(4800, 2400),\n",
    "            nn.BatchNorm1d(2400),\n",
    "            nn.ReLU(True),\n",
    "        )\n",
    "        self.fc2 = nn.Sequential(\n",
    "            nn.Linear(2400, 100),\n",
    "            nn.BatchNorm1d(100),\n",
    "            nn.ReLU(True),\n",
    "        )\n",
    "        self.class_classifer = nn.Sequential(\n",
    "            nn.Linear(100, 10),\n",
    "            nn.ReLU(True),\n",
    "        )\n",
    "        self.softmax = nn.Softmax()\n",
    "        \n",
    "        # domain classifier\n",
    "        self.d_fc1 = nn.Sequential(\n",
    "            nn.Linear(4800, 100),\n",
    "            nn.ReLU(True),\n",
    "        )\n",
    "        self.domain_classifier = nn.Sequential(\n",
    "            nn.Linear(100, 1),\n",
    "            nn.Sigmoid(),\n",
    "        )\n",
    "        \n",
    "    def forward(self, x, alpha):\n",
    "        x = self.conv1(x)\n",
    "        x = self.conv2(x)\n",
    "        x = x.view(-1, 4800)\n",
    "        self.latent_space = x\n",
    "        reverse_feature = ReverseLayerF.apply(x, alpha)\n",
    "        x = self.fc1(x)\n",
    "        x = self.fc2(x)\n",
    "        class_output = self.class_classifer(x)\n",
    "        x = self.d_fc1(reverse_feature)\n",
    "        domain_output = self.domain_classifier(x)\n",
    "        return class_output, domain_output\n",
    "    \n",
    "    def get_latent(self):\n",
    "        return self.latent_space"
   ]
  },
  {
   "cell_type": "code",
   "execution_count": null,
   "id": "efa022ab",
   "metadata": {},
   "outputs": [],
   "source": [
    "def train_model(source_dl, target_dl, model, adv_loss, aux_loss, optimizer, epoch, gap):\n",
    "    running_loss = 0\n",
    "    run_class_loss = 0\n",
    "    run_domain_loss = 0\n",
    "    model.train()\n",
    "    for batch, (source, target) in enumerate(zip(source_dl, target_dl), 0):\n",
    "        # data prep\n",
    "        source_img, source_lb = source\n",
    "        target_img, target_lb = target\n",
    "        source_img = source_img.to(device)\n",
    "        source_lb = source_lb.to(device)\n",
    "        target_img = target_img.to(device)\n",
    "        target_lb = target_lb.to(device)\n",
    "        \n",
    "        source_size = source_lb.shape[0]\n",
    "        target_size = target_lb.shape[0]\n",
    "        \n",
    "        source_domain_lb = torch.zeros(source_size).type(torch.FloatTensor).to(device)\n",
    "        target_domain_lb = torch.ones(target_size).type(torch.FloatTensor).to(device)\n",
    "        \n",
    "        model.zero_grad()\n",
    "        constant = alpha = 0.25\n",
    "        scr_classes, scr_domains = model(source_img, alpha)\n",
    "        trg_classes, trg_domains = model(target_img, alpha)\n",
    "        scr_domains = scr_domains.view(source_size)\n",
    "        trg_domains = trg_domains.view(target_size)\n",
    "        # class loss\n",
    "        class_loss = auxiliary_loss(scr_classes, source_lb)\n",
    "        run_class_loss += class_loss\n",
    "        \n",
    "        #domain loss\n",
    "        source_domain_loss = adversarial_loss(scr_domains, source_domain_lb)\n",
    "        target_domain_loss = adversarial_loss(trg_domains, target_domain_lb)\n",
    "        domain_loss = target_domain_loss + source_domain_loss\n",
    "        run_domain_loss += domain_loss\n",
    "        loss = class_loss + constant * domain_loss\n",
    "        loss.backward()\n",
    "        optimizer.step()\n",
    "        \n",
    "        scr_classes = scr_classes.cpu().detach().numpy()\n",
    "        source_lb = source_lb.cpu().detach().numpy()\n",
    "        trg_classes = trg_classes.cpu().detach().numpy()\n",
    "        target_lb = target_lb.cpu().detach().numpy()\n",
    "        scr_domains = scr_domains.cpu().detach().numpy()\n",
    "        trg_domains = trg_domains.cpu().detach().numpy()\n",
    "        \n",
    "        # accuracy calculation\n",
    "        source_class_acc = np.mean(np.argmax(scr_classes, axis=1) == source_lb)\n",
    "        target_class_acc = np.mean(np.argmax(trg_classes, axis=1) == target_lb)\n",
    "        source_domain_acc = np.mean(np.around(scr_domains) == 0)\n",
    "        target_domain_acc = np.mean(np.around(trg_domains) == 1)\n",
    "        \n",
    "        # train with data \n",
    "        running_loss += loss.item()\n",
    "        if (batch+1) % gap == 0:\n",
    "            loss, current = loss.item(), batch * len(source_img) + batch_size\n",
    "            print(f\"loss: {loss:.5f} class_loss: {run_class_loss:.5f} domain_loss: {run_domain_loss:.5f}\")\n",
    "            print(f\"scr_class_accuracy:{source_class_acc * 100:.0f}% trg_class_accuracy:{target_class_acc * 100:.0f}% scr_domain_accuracy:{source_domain_acc * 100:.0f}% trg_domain_accuracy:{target_domain_acc * 100:.0f}% [{current:>5d}]\")\n",
    "            run_class_loss = 0\n",
    "            run_domain_loss = 0\n",
    "            running_loss = 0\n",
    "# for t in range(epochs):\n",
    "#     print(f\"Epoch {t+1}\\n-------------------------------\")\n",
    "#     train_model(train_dl_svhn, train_dl_mnist, model, adversarial_loss, \n",
    "#                 auxiliary_loss, optimizer, t, 200)"
   ]
  },
  {
   "cell_type": "code",
   "execution_count": 16,
   "id": "60c5c508",
   "metadata": {},
   "outputs": [],
   "source": [
    "def test(model, source_dl, target_dl, alpha):\n",
    "    model.eval()\n",
    "    total_scr_classes = torch.FloatTensor().to(device)\n",
    "    total_trg_classes = torch.FloatTensor().to(device)\n",
    "    total_scr_domains = torch.FloatTensor().to(device)\n",
    "    total_trg_domains = torch.FloatTensor().to(device)\n",
    "    total_scr_lb = torch.FloatTensor().to(device)\n",
    "    total_trg_lb = torch.FloatTensor().to(device)\n",
    "    for batch, (source, target) in enumerate(zip(source_dl, target_dl), 0):\n",
    "        # data prep\n",
    "        source_img, source_lb = source\n",
    "        target_img, target_lb = target\n",
    "        source_img = source_img.to(device)\n",
    "        source_lb = source_lb.to(device)\n",
    "        target_img = target_img.to(device)\n",
    "        target_lb = target_lb.to(device)\n",
    "        \n",
    "        source_size = source_lb.shape[0]\n",
    "        target_size = target_lb.shape[0]\n",
    "        \n",
    "        # feeed in the input\n",
    "        batch_size = source_lb.size(0)\n",
    "        scr_classes, scr_domains = model(source_img, alpha)\n",
    "        trg_classes, trg_domains = model(target_img, alpha)\n",
    "        scr_domains = scr_domains.view(source_size)\n",
    "        trg_domains = trg_domains.view(target_size)\n",
    "        \n",
    "        total_scr_classes = torch.cat((total_scr_classes, scr_classes))\n",
    "        total_trg_classes = torch.cat((total_trg_classes, trg_classes))\n",
    "        total_scr_domains = torch.cat((total_scr_domains, scr_domains))\n",
    "        total_trg_domains = torch.cat((total_trg_domains, trg_domains))\n",
    "        total_scr_lb = torch.cat((total_scr_lb, source_lb))\n",
    "        total_trg_lb = torch.cat((total_trg_lb, target_lb))\n",
    "        \n",
    "    total_scr_classes = total_scr_classes.cpu().detach().numpy()\n",
    "    total_trg_classes = total_trg_classes.cpu().detach().numpy()\n",
    "    total_scr_lb = total_scr_lb.cpu().detach().numpy()\n",
    "    total_trg_lb = total_trg_lb.cpu().detach().numpy()\n",
    "    total_scr_domains = total_scr_domains.cpu().detach().numpy()\n",
    "    total_trg_domains = total_trg_domains.cpu().detach().numpy()\n",
    "    \n",
    "    # accuracy calculation\n",
    "    source_class_acc = np.mean(np.argmax(total_scr_classes, axis=1) == total_scr_lb)\n",
    "    # size is different so we can't use that way\n",
    "    target_class_acc = np.mean(np.argmax(total_trg_classes, axis=1) == total_trg_lb)\n",
    "    source_domain_acc = np.mean(np.around(total_scr_domains) == 0)\n",
    "    target_domain_acc = np.mean(np.around(total_trg_domains) == 1)\n",
    "    \n",
    "    print(f\"scr_class_accuracy:{source_class_acc * 100:.2f}% trg_class_accuracy:{target_class_acc * 100:.2f}% scr_domain_accuracy:{source_domain_acc * 100:.1f}% trg_domain_accuracy:{target_domain_acc * 100:.1f}%\")\n",
    "# test(model, test_dl_svhn, test_dl_mnist, 0.25)"
   ]
  },
  {
   "cell_type": "code",
   "execution_count": 25,
   "id": "29bb192d",
   "metadata": {},
   "outputs": [],
   "source": [
    "def get_feature(model, val_dl, alpha):\n",
    "    model.eval()\n",
    "    model.to(device)\n",
    "    features = torch.FloatTensor().to(device)\n",
    "    cls_pred = torch.FloatTensor().to(device)\n",
    "    dm_pred = torch.FloatTensor().to(device)\n",
    "    count = 0\n",
    "    for batch, data in enumerate(val_dl, 0):\n",
    "        images, labels = data\n",
    "        images = images.to(device)\n",
    "        labels = labels.to(device)\n",
    "        \n",
    "        \n",
    "        class_output, domain_output = model(images, alpha)\n",
    "        feature_b = model.get_latent()\n",
    "\n",
    "        \n",
    "        class_output = torch.argmax(class_output, dim=1)\n",
    "        \n",
    "        features = torch.cat((features, feature_b))\n",
    "        # modified to real label instead of predicted label\n",
    "        cls_pred = torch.cat((cls_pred, labels))\n",
    "        dm_pred =  torch.cat((dm_pred, domain_output))\n",
    "        count += 1\n",
    "        if count == 4:\n",
    "            break\n",
    "    features = features.cpu().detach().numpy()\n",
    "    cls_pred = cls_pred.cpu().detach().numpy()\n",
    "    dm_pred = dm_pred.cpu().detach().numpy()\n",
    "    \n",
    "    return features, cls_pred, dm_pred"
   ]
  },
  {
   "cell_type": "code",
   "execution_count": 11,
   "id": "b90130b8",
   "metadata": {},
   "outputs": [],
   "source": [
    "def show_tsne_cls(features, pred):\n",
    "    def scale_to_01_range(x):\n",
    "        value_range = (np.max(x) - np.min(x))\n",
    "        # distribution range\n",
    "        starts_from_zero = x - np.min(x)\n",
    "        # move the distribution so it starts from zero\n",
    "        return starts_from_zero / value_range\n",
    "    \n",
    "    # create tsne\n",
    "    tsne = TSNE(n_components=2).fit_transform(features)\n",
    "    tx = tsne[:, 0]\n",
    "    ty = tsne[:, 1]\n",
    "    \n",
    "    # scale the plot to the range 0-1\n",
    "#     tx = scale_to_01_range(tx)\n",
    "#     ty = scale_to_01_range(ty)\n",
    "    \n",
    "    fig = plt.figure()\n",
    "    ax = fig.add_subplot(111)\n",
    "    \n",
    "    colors = ['black', 'blue', 'purple', 'yellow', 'red', 'lime', 'cyan', 'white', 'orange', 'gray']\n",
    "    count = 0\n",
    "    \n",
    "    for i in range(len(pred)):\n",
    "        if pred[i] < 10:\n",
    "            count += 1\n",
    "            current_tx = np.take(tx, i)\n",
    "            current_ty = np.take(ty, i)\n",
    "            ax.scatter(current_tx, current_ty, c=colors[int(pred[i])])\n",
    "    print(count)\n",
    "\n",
    "    ax.legend(loc='best')\n",
    "    plt.show()"
   ]
  },
  {
   "cell_type": "code",
   "execution_count": 12,
   "id": "0c4b46be",
   "metadata": {},
   "outputs": [],
   "source": [
    "def show_tsne_domain(src_feature, trg_feature):\n",
    "    \n",
    "    src_tsne = TSNE(n_components=2).fit_transform(src_feature)\n",
    "    trg_tsne = TSNE(n_components=2).fit_transform(trg_feature)\n",
    "    \n",
    "    src_tx = src_tsne[:, 0]\n",
    "    src_ty = src_tsne[:, 1]\n",
    "    \n",
    "    trg_tx = trg_tsne[:, 0]\n",
    "    trg_ty = trg_tsne[:, 1]\n",
    "    \n",
    "    fig = plt.figure()\n",
    "    ax = fig.add_subplot(111)\n",
    "    \n",
    "    colors = ['blue', 'red']\n",
    "    count = 0\n",
    "    print(\"blue represent source domain / red represent target domain\")\n",
    "    for i in range(len(src_feature)):\n",
    "        count += 1\n",
    "        current_tx = np.take(src_tx, i)\n",
    "        current_ty = np.take(src_ty, i)\n",
    "        ax.scatter(current_tx, current_ty, c=colors[0])\n",
    "        current_tx = np.take(trg_tx, i)\n",
    "        current_ty = np.take(trg_ty, i)\n",
    "        ax.scatter(current_tx, current_ty, c=colors[1])\n",
    "        \n",
    "    print(count)\n",
    "\n",
    "    ax.legend(loc='best')\n",
    "    plt.show()"
   ]
  },
  {
   "cell_type": "markdown",
   "id": "ff0e775f",
   "metadata": {},
   "source": [
    "Source Domain: svhn / Target Domain: mnist"
   ]
  },
  {
   "cell_type": "code",
   "execution_count": 13,
   "id": "be549ef0",
   "metadata": {},
   "outputs": [],
   "source": [
    "device = \"cuda:1\""
   ]
  },
  {
   "cell_type": "code",
   "execution_count": 14,
   "id": "0bb4a278",
   "metadata": {},
   "outputs": [],
   "source": [
    "model_s_to_m = dann().to(device)\n",
    "model_s_to_m.load_state_dict(torch.load(\"./check_point/dann_s_to_m.pth\"))\n",
    "# Loss functions\n",
    "adversarial_loss = torch.nn.BCELoss()\n",
    "auxiliary_loss = torch.nn.CrossEntropyLoss()\n",
    "optimizer = torch.optim.SGD(model_s_to_m.parameters(), lr=lr, momentum = momentum)"
   ]
  },
  {
   "cell_type": "code",
   "execution_count": null,
   "id": "b188acbe",
   "metadata": {},
   "outputs": [],
   "source": [
    "epochs = 20\n",
    "gap = 200 # gap of batch between output\n",
    "for t in range(epochs):\n",
    "    print(f\"Epoch {t+1}\\n-------------------------------\")\n",
    "    train_model(train_dl_svhn, train_dl_mnist, model_s_to_m, adversarial_loss, \n",
    "                auxiliary_loss, optimizer, t, gap)"
   ]
  },
  {
   "cell_type": "code",
   "execution_count": 17,
   "id": "76658c11",
   "metadata": {},
   "outputs": [
    {
     "name": "stdout",
     "output_type": "stream",
     "text": [
      "scr_class_accuracy:85.05% trg_class_accuracy:51.26% scr_domain_accuracy:76.1% trg_domain_accuracy:86.6%\n"
     ]
    }
   ],
   "source": [
    "test(model_s_to_m, test_dl_svhn, test_dl_mnist, 0.25)"
   ]
  },
  {
   "cell_type": "code",
   "execution_count": null,
   "id": "f095d3ac",
   "metadata": {},
   "outputs": [],
   "source": [
    "torch.save(model_s_to_m.state_dict(), \"./check_point/dann_s_to_m.pth\")"
   ]
  },
  {
   "cell_type": "code",
   "execution_count": 26,
   "id": "f8a5fd91",
   "metadata": {},
   "outputs": [],
   "source": [
    "alpha = 0.25\n",
    "src_features, src_cls_pred, src_dm_pred = get_feature(model_s_to_m, test_dl_svhn, alpha)\n",
    "trg_features, trg_cls_pred, trg_dm_pred = get_feature(model_s_to_m, test_dl_mnist, alpha)"
   ]
  },
  {
   "cell_type": "code",
   "execution_count": 27,
   "id": "90850f4b",
   "metadata": {},
   "outputs": [
    {
     "name": "stderr",
     "output_type": "stream",
     "text": [
      "No handles with labels found to put in legend.\n"
     ]
    },
    {
     "name": "stdout",
     "output_type": "stream",
     "text": [
      "400\n"
     ]
    },
    {
     "data": {
      "image/png": "[encoded data removed]",
      "text/plain": [
       "<Figure size 432x288 with 1 Axes>"
      ]
     },
     "metadata": {
      "needs_background": "light"
     },
     "output_type": "display_data"
    }
   ],
   "source": [
    "show_tsne_cls(src_features, src_cls_pred)"
   ]
  },
  {
   "cell_type": "code",
   "execution_count": 33,
   "id": "6336da84",
   "metadata": {},
   "outputs": [
    {
     "name": "stderr",
     "output_type": "stream",
     "text": [
      "No handles with labels found to put in legend.\n"
     ]
    },
    {
     "name": "stdout",
     "output_type": "stream",
     "text": [
      "400\n"
     ]
    },
    {
     "data": {
      "image/png": "[encoded data removed]",
      "text/plain": [
       "<Figure size 432x288 with 1 Axes>"
      ]
     },
     "metadata": {
      "needs_background": "light"
     },
     "output_type": "display_data"
    }
   ],
   "source": [
    "show_tsne_cls(trg_features, trg_cls_pred)"
   ]
  },
  {
   "cell_type": "code",
   "execution_count": 28,
   "id": "44dec51a",
   "metadata": {},
   "outputs": [
    {
     "name": "stdout",
     "output_type": "stream",
     "text": [
      "blue represent source domain / red represent target domain\n"
     ]
    },
    {
     "name": "stderr",
     "output_type": "stream",
     "text": [
      "No handles with labels found to put in legend.\n"
     ]
    },
    {
     "name": "stdout",
     "output_type": "stream",
     "text": [
      "400\n"
     ]
    },
    {
     "data": {
      "image/png": "[encoded data removed]",
      "text/plain": [
       "<Figure size 432x288 with 1 Axes>"
      ]
     },
     "metadata": {
      "needs_background": "light"
     },
     "output_type": "display_data"
    }
   ],
   "source": [
    "show_tsne_domain(src_features, trg_features)"
   ]
  },
  {
   "cell_type": "markdown",
   "id": "285e93e8",
   "metadata": {},
   "source": [
    "Source Domain: mnist / Target Domain: usps"
   ]
  },
  {
   "cell_type": "code",
   "execution_count": 20,
   "id": "4f022f84",
   "metadata": {},
   "outputs": [],
   "source": [
    "model_m_to_u = dann().to(device)\n",
    "model_m_to_u.load_state_dict(torch.load(\"./check_point/dann_m_to_u.pth\"))\n",
    "# Loss functions\n",
    "adversarial_loss = torch.nn.BCELoss()\n",
    "auxiliary_loss = torch.nn.CrossEntropyLoss()\n",
    "optimizer = torch.optim.SGD(model_m_to_u.parameters(), lr=lr, momentum = momentum)"
   ]
  },
  {
   "cell_type": "code",
   "execution_count": null,
   "id": "1a7386d7",
   "metadata": {},
   "outputs": [],
   "source": [
    "epochs = 25\n",
    "gap = 50 # gap of batch between output\n",
    "for t in range(epochs):\n",
    "    print(f\"Epoch {t+1}\\n-------------------------------\")\n",
    "    train_model(train_dl_mnist, train_dl_usps, model_m_to_u, adversarial_loss, \n",
    "                auxiliary_loss, optimizer, t, gap)"
   ]
  },
  {
   "cell_type": "code",
   "execution_count": 21,
   "id": "317071b9",
   "metadata": {},
   "outputs": [
    {
     "name": "stdout",
     "output_type": "stream",
     "text": [
      "scr_class_accuracy:85.00% trg_class_accuracy:73.49% scr_domain_accuracy:98.0% trg_domain_accuracy:97.6%\n"
     ]
    }
   ],
   "source": [
    "test(model_m_to_u, test_dl_mnist, test_dl_usps, 0.25)"
   ]
  },
  {
   "cell_type": "code",
   "execution_count": null,
   "id": "c0c763ae",
   "metadata": {},
   "outputs": [],
   "source": [
    "torch.save(model_m_to_u.state_dict(), \"./check_point/dann_m_to_u.pth\")"
   ]
  },
  {
   "cell_type": "code",
   "execution_count": 40,
   "id": "b10a5a3b",
   "metadata": {},
   "outputs": [],
   "source": [
    "alpha = 0.25\n",
    "src_features, src_cls_pred, src_dm_pred = get_feature(model_m_to_u, test_dl_mnist, alpha)\n",
    "trg_features, trg_cls_pred, trg_dm_pred = get_feature(model_m_to_u, test_dl_usps, alpha)"
   ]
  },
  {
   "cell_type": "code",
   "execution_count": 41,
   "id": "63e16e28",
   "metadata": {},
   "outputs": [
    {
     "name": "stderr",
     "output_type": "stream",
     "text": [
      "No handles with labels found to put in legend.\n"
     ]
    },
    {
     "name": "stdout",
     "output_type": "stream",
     "text": [
      "400\n"
     ]
    },
    {
     "data": {
      "image/png": "[encoded data removed]",
      "text/plain": [
       "<Figure size 432x288 with 1 Axes>"
      ]
     },
     "metadata": {
      "needs_background": "light"
     },
     "output_type": "display_data"
    }
   ],
   "source": [
    "show_tsne_cls(src_features, src_cls_pred)"
   ]
  },
  {
   "cell_type": "code",
   "execution_count": 42,
   "id": "38d3564b",
   "metadata": {},
   "outputs": [
    {
     "name": "stderr",
     "output_type": "stream",
     "text": [
      "No handles with labels found to put in legend.\n"
     ]
    },
    {
     "name": "stdout",
     "output_type": "stream",
     "text": [
      "400\n"
     ]
    },
    {
     "data": {
      "image/png": "[encoded data removed]",
      "text/plain": [
       "<Figure size 432x288 with 1 Axes>"
      ]
     },
     "metadata": {
      "needs_background": "light"
     },
     "output_type": "display_data"
    }
   ],
   "source": [
    "show_tsne_cls(trg_features, trg_cls_pred)"
   ]
  },
  {
   "cell_type": "code",
   "execution_count": 43,
   "id": "0c97f761",
   "metadata": {},
   "outputs": [
    {
     "name": "stdout",
     "output_type": "stream",
     "text": [
      "blue represent source domain / red represent target domain\n"
     ]
    },
    {
     "name": "stderr",
     "output_type": "stream",
     "text": [
      "No handles with labels found to put in legend.\n"
     ]
    },
    {
     "name": "stdout",
     "output_type": "stream",
     "text": [
      "400\n"
     ]
    },
    {
     "data": {
      "image/png": "[encoded data removed]",
      "text/plain": [
       "<Figure size 432x288 with 1 Axes>"
      ]
     },
     "metadata": {
      "needs_background": "light"
     },
     "output_type": "display_data"
    }
   ],
   "source": [
    "show_tsne_domain(src_features, trg_features)"
   ]
  },
  {
   "cell_type": "markdown",
   "id": "cb4d4f00",
   "metadata": {},
   "source": [
    "Source Domain: usps / Target Domain: svhn"
   ]
  },
  {
   "cell_type": "code",
   "execution_count": 34,
   "id": "de28aa44",
   "metadata": {},
   "outputs": [],
   "source": [
    "model_u_to_s = dann().to(device)\n",
    "model_u_to_s.load_state_dict(torch.load(\"./check_point/dann_u_to_s.pth\"))\n",
    "# Loss functions\n",
    "momentum = 9e-1\n",
    "lr = 2e-4\n",
    "adversarial_loss = torch.nn.BCELoss()\n",
    "auxiliary_loss = torch.nn.CrossEntropyLoss()\n",
    "optimizer = torch.optim.SGD(model_u_to_s.parameters(), lr=lr, momentum = momentum)"
   ]
  },
  {
   "cell_type": "code",
   "execution_count": null,
   "id": "99805a58",
   "metadata": {},
   "outputs": [],
   "source": [
    "epochs = 15\n",
    "gap = 50 # gap of batch between output\n",
    "for t in range(epochs):\n",
    "    print(f\"Epoch {t+1}\\n-------------------------------\")\n",
    "    train_model(train_dl_usps, train_dl_svhn, model_u_to_s, adversarial_loss, \n",
    "                auxiliary_loss, optimizer, t, gap)"
   ]
  },
  {
   "cell_type": "code",
   "execution_count": 35,
   "id": "40551e14",
   "metadata": {
    "scrolled": true
   },
   "outputs": [
    {
     "name": "stdout",
     "output_type": "stream",
     "text": [
      "scr_class_accuracy:97.01% trg_class_accuracy:22.33% scr_domain_accuracy:97.4% trg_domain_accuracy:98.7%\n"
     ]
    }
   ],
   "source": [
    "test(model_u_to_s, test_dl_usps, test_dl_svhn, 0.25)"
   ]
  },
  {
   "cell_type": "code",
   "execution_count": null,
   "id": "2afb25cb",
   "metadata": {},
   "outputs": [],
   "source": [
    "torch.save(model_u_to_s.state_dict(), \"./check_point/dann_u_to_s.pth\")"
   ]
  },
  {
   "cell_type": "code",
   "execution_count": 44,
   "id": "e1f941ba",
   "metadata": {},
   "outputs": [],
   "source": [
    "alpha = 0.25\n",
    "src_features, src_cls_pred, src_dm_pred = get_feature(model_u_to_s, test_dl_usps, alpha)\n",
    "trg_features, trg_cls_pred, trg_dm_pred = get_feature(model_u_to_s, test_dl_svhn, alpha)"
   ]
  },
  {
   "cell_type": "code",
   "execution_count": 45,
   "id": "81873d5e",
   "metadata": {},
   "outputs": [
    {
     "name": "stderr",
     "output_type": "stream",
     "text": [
      "No handles with labels found to put in legend.\n"
     ]
    },
    {
     "name": "stdout",
     "output_type": "stream",
     "text": [
      "400\n"
     ]
    },
    {
     "data": {
      "image/png": "[encoded data removed]",
      "text/plain": [
       "<Figure size 432x288 with 1 Axes>"
      ]
     },
     "metadata": {
      "needs_background": "light"
     },
     "output_type": "display_data"
    }
   ],
   "source": [
    "show_tsne_cls(src_features, src_cls_pred)"
   ]
  },
  {
   "cell_type": "code",
   "execution_count": 46,
   "id": "1ce97e9c",
   "metadata": {},
   "outputs": [
    {
     "name": "stderr",
     "output_type": "stream",
     "text": [
      "No handles with labels found to put in legend.\n"
     ]
    },
    {
     "name": "stdout",
     "output_type": "stream",
     "text": [
      "400\n"
     ]
    },
    {
     "data": {
      "image/png": "[encoded data removed]",
      "text/plain": [
       "<Figure size 432x288 with 1 Axes>"
      ]
     },
     "metadata": {
      "needs_background": "light"
     },
     "output_type": "display_data"
    }
   ],
   "source": [
    "show_tsne_cls(trg_features, trg_cls_pred)"
   ]
  },
  {
   "cell_type": "code",
   "execution_count": 47,
   "id": "37fc550b",
   "metadata": {},
   "outputs": [
    {
     "name": "stdout",
     "output_type": "stream",
     "text": [
      "blue represent source domain / red represent target domain\n"
     ]
    },
    {
     "name": "stderr",
     "output_type": "stream",
     "text": [
      "No handles with labels found to put in legend.\n"
     ]
    },
    {
     "name": "stdout",
     "output_type": "stream",
     "text": [
      "400\n"
     ]
    },
    {
     "data": {
      "image/png": "[encoded data removed]",
      "text/plain": [
       "<Figure size 432x288 with 1 Axes>"
      ]
     },
     "metadata": {
      "needs_background": "light"
     },
     "output_type": "display_data"
    }
   ],
   "source": [
    "show_tsne_domain(src_features, trg_features)"
   ]
  },
  {
   "cell_type": "markdown",
   "id": "f2e4fda6",
   "metadata": {},
   "source": [
    "Lower Bound: accuracy on target domain, train on source domain"
   ]
  },
  {
   "cell_type": "code",
   "execution_count": 48,
   "id": "998e757a",
   "metadata": {},
   "outputs": [],
   "source": [
    "model = dann()"
   ]
  },
  {
   "cell_type": "code",
   "execution_count": 49,
   "id": "6e422867",
   "metadata": {},
   "outputs": [
    {
     "name": "stdout",
     "output_type": "stream",
     "text": [
      "dann(\n",
      "  (conv1): Sequential(\n",
      "    (0): ConvTranspose2d(3, 32, kernel_size=(5, 5), stride=(1, 1))\n",
      "    (1): BatchNorm2d(32, eps=1e-05, momentum=0.1, affine=True, track_running_stats=True)\n",
      "    (2): ReLU(inplace=True)\n",
      "    (3): MaxPool2d(kernel_size=2, stride=2, padding=0, dilation=1, ceil_mode=False)\n",
      "  )\n",
      "  (conv2): Sequential(\n",
      "    (0): ConvTranspose2d(32, 48, kernel_size=(5, 5), stride=(1, 1))\n",
      "    (1): BatchNorm2d(48, eps=1e-05, momentum=0.1, affine=True, track_running_stats=True)\n",
      "    (2): ReLU(inplace=True)\n",
      "    (3): Dropout2d(p=0.5, inplace=False)\n",
      "    (4): MaxPool2d(kernel_size=2, stride=2, padding=0, dilation=1, ceil_mode=False)\n",
      "  )\n",
      "  (fc1): Sequential(\n",
      "    (0): Linear(in_features=4800, out_features=2400, bias=True)\n",
      "    (1): BatchNorm1d(2400, eps=1e-05, momentum=0.1, affine=True, track_running_stats=True)\n",
      "    (2): ReLU(inplace=True)\n",
      "  )\n",
      "  (fc2): Sequential(\n",
      "    (0): Linear(in_features=2400, out_features=100, bias=True)\n",
      "    (1): BatchNorm1d(100, eps=1e-05, momentum=0.1, affine=True, track_running_stats=True)\n",
      "    (2): ReLU(inplace=True)\n",
      "  )\n",
      "  (class_classifer): Sequential(\n",
      "    (0): Linear(in_features=100, out_features=10, bias=True)\n",
      "    (1): ReLU(inplace=True)\n",
      "  )\n",
      "  (softmax): Softmax(dim=None)\n",
      "  (d_fc1): Sequential(\n",
      "    (0): Linear(in_features=4800, out_features=100, bias=True)\n",
      "    (1): ReLU(inplace=True)\n",
      "  )\n",
      "  (domain_classifier): Sequential(\n",
      "    (0): Linear(in_features=100, out_features=1, bias=True)\n",
      "    (1): Sigmoid()\n",
      "  )\n",
      ")\n",
      "Sequential(\n",
      "  (0): ConvTranspose2d(3, 32, kernel_size=(5, 5), stride=(1, 1))\n",
      "  (1): BatchNorm2d(32, eps=1e-05, momentum=0.1, affine=True, track_running_stats=True)\n",
      "  (2): ReLU(inplace=True)\n",
      "  (3): MaxPool2d(kernel_size=2, stride=2, padding=0, dilation=1, ceil_mode=False)\n",
      ")\n",
      "ConvTranspose2d(3, 32, kernel_size=(5, 5), stride=(1, 1))\n",
      "BatchNorm2d(32, eps=1e-05, momentum=0.1, affine=True, track_running_stats=True)\n",
      "ReLU(inplace=True)\n",
      "MaxPool2d(kernel_size=2, stride=2, padding=0, dilation=1, ceil_mode=False)\n",
      "Sequential(\n",
      "  (0): ConvTranspose2d(32, 48, kernel_size=(5, 5), stride=(1, 1))\n",
      "  (1): BatchNorm2d(48, eps=1e-05, momentum=0.1, affine=True, track_running_stats=True)\n",
      "  (2): ReLU(inplace=True)\n",
      "  (3): Dropout2d(p=0.5, inplace=False)\n",
      "  (4): MaxPool2d(kernel_size=2, stride=2, padding=0, dilation=1, ceil_mode=False)\n",
      ")\n",
      "ConvTranspose2d(32, 48, kernel_size=(5, 5), stride=(1, 1))\n",
      "BatchNorm2d(48, eps=1e-05, momentum=0.1, affine=True, track_running_stats=True)\n",
      "ReLU(inplace=True)\n",
      "Dropout2d(p=0.5, inplace=False)\n",
      "MaxPool2d(kernel_size=2, stride=2, padding=0, dilation=1, ceil_mode=False)\n",
      "Sequential(\n",
      "  (0): Linear(in_features=4800, out_features=2400, bias=True)\n",
      "  (1): BatchNorm1d(2400, eps=1e-05, momentum=0.1, affine=True, track_running_stats=True)\n",
      "  (2): ReLU(inplace=True)\n",
      ")\n",
      "Linear(in_features=4800, out_features=2400, bias=True)\n",
      "BatchNorm1d(2400, eps=1e-05, momentum=0.1, affine=True, track_running_stats=True)\n",
      "ReLU(inplace=True)\n",
      "Sequential(\n",
      "  (0): Linear(in_features=2400, out_features=100, bias=True)\n",
      "  (1): BatchNorm1d(100, eps=1e-05, momentum=0.1, affine=True, track_running_stats=True)\n",
      "  (2): ReLU(inplace=True)\n",
      ")\n",
      "Linear(in_features=2400, out_features=100, bias=True)\n",
      "BatchNorm1d(100, eps=1e-05, momentum=0.1, affine=True, track_running_stats=True)\n",
      "ReLU(inplace=True)\n",
      "Sequential(\n",
      "  (0): Linear(in_features=100, out_features=10, bias=True)\n",
      "  (1): ReLU(inplace=True)\n",
      ")\n",
      "Linear(in_features=100, out_features=10, bias=True)\n",
      "ReLU(inplace=True)\n",
      "Softmax(dim=None)\n",
      "Sequential(\n",
      "  (0): Linear(in_features=4800, out_features=100, bias=True)\n",
      "  (1): ReLU(inplace=True)\n",
      ")\n",
      "Linear(in_features=4800, out_features=100, bias=True)\n",
      "ReLU(inplace=True)\n",
      "Sequential(\n",
      "  (0): Linear(in_features=100, out_features=1, bias=True)\n",
      "  (1): Sigmoid()\n",
      ")\n",
      "Linear(in_features=100, out_features=1, bias=True)\n",
      "Sigmoid()\n"
     ]
    }
   ],
   "source": [
    "for i in model.modules():\n",
    "    print(i)"
   ]
  },
  {
   "cell_type": "code",
   "execution_count": null,
   "id": "be662df1",
   "metadata": {},
   "outputs": [],
   "source": [
    "epochs = 1"
   ]
  },
  {
   "cell_type": "markdown",
   "id": "7d20765c",
   "metadata": {},
   "source": [
    "Upper Bound: accuracy on target domain, train on target domain"
   ]
  }
 ],
 "metadata": {
  "kernelspec": {
   "display_name": "Python 3",
   "language": "python",
   "name": "python3"
  },
  "language_info": {
   "codemirror_mode": {
    "name": "ipython",
    "version": 3
   },
   "file_extension": ".py",
   "mimetype": "text/x-python",
   "name": "python",
   "nbconvert_exporter": "python",
   "pygments_lexer": "ipython3",
   "version": "3.6.9"
  }
 },
 "nbformat": 4,
 "nbformat_minor": 5
}
